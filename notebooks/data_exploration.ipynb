{
 "cells": [
  {
   "cell_type": "code",
   "execution_count": 2,
   "id": "a55f116b",
   "metadata": {},
   "outputs": [],
   "source": [
    "import pandas as pd\n",
    "import numpy as np\n",
    "from collections import Counter\n"
   ]
  },
  {
   "cell_type": "code",
   "execution_count": 3,
   "id": "51c345c2",
   "metadata": {},
   "outputs": [
    {
     "name": "stdout",
     "output_type": "stream",
     "text": [
      "(3200, 1)\n"
     ]
    },
    {
     "data": {
      "text/html": [
       "<div>\n",
       "<style scoped>\n",
       "    .dataframe tbody tr th:only-of-type {\n",
       "        vertical-align: middle;\n",
       "    }\n",
       "\n",
       "    .dataframe tbody tr th {\n",
       "        vertical-align: top;\n",
       "    }\n",
       "\n",
       "    .dataframe thead th {\n",
       "        text-align: right;\n",
       "    }\n",
       "</style>\n",
       "<table border=\"1\" class=\"dataframe\">\n",
       "  <thead>\n",
       "    <tr style=\"text-align: right;\">\n",
       "      <th></th>\n",
       "      <th>passage</th>\n",
       "    </tr>\n",
       "    <tr>\n",
       "      <th>id</th>\n",
       "      <th></th>\n",
       "    </tr>\n",
       "  </thead>\n",
       "  <tbody>\n",
       "    <tr>\n",
       "      <th>0</th>\n",
       "      <td>Uruguay (official full name in  ; pron.  , Eas...</td>\n",
       "    </tr>\n",
       "    <tr>\n",
       "      <th>1</th>\n",
       "      <td>It is bordered by Brazil to the north, by Arge...</td>\n",
       "    </tr>\n",
       "    <tr>\n",
       "      <th>2</th>\n",
       "      <td>Montevideo was founded by the Spanish in the e...</td>\n",
       "    </tr>\n",
       "    <tr>\n",
       "      <th>3</th>\n",
       "      <td>The economy is largely based in agriculture (m...</td>\n",
       "    </tr>\n",
       "    <tr>\n",
       "      <th>4</th>\n",
       "      <td>According to Transparency International, Urugu...</td>\n",
       "    </tr>\n",
       "  </tbody>\n",
       "</table>\n",
       "</div>"
      ],
      "text/plain": [
       "                                              passage\n",
       "id                                                   \n",
       "0   Uruguay (official full name in  ; pron.  , Eas...\n",
       "1   It is bordered by Brazil to the north, by Arge...\n",
       "2   Montevideo was founded by the Spanish in the e...\n",
       "3   The economy is largely based in agriculture (m...\n",
       "4   According to Transparency International, Urugu..."
      ]
     },
     "execution_count": 3,
     "metadata": {},
     "output_type": "execute_result"
    }
   ],
   "source": [
    "passages = pd.read_parquet(\"hf://datasets/rag-datasets/rag-mini-wikipedia/data/passages.parquet/part.0.parquet\")\n",
    "\n",
    "print(passages.shape)\n",
    "passages.head()"
   ]
  },
  {
   "cell_type": "code",
   "execution_count": 4,
   "id": "2a0d913b",
   "metadata": {},
   "outputs": [
    {
     "data": {
      "text/plain": [
       "Index(['passage'], dtype='object')"
      ]
     },
     "execution_count": 4,
     "metadata": {},
     "output_type": "execute_result"
    }
   ],
   "source": [
    "passages.columns"
   ]
  },
  {
   "cell_type": "code",
   "execution_count": 3,
   "id": "14453d95",
   "metadata": {},
   "outputs": [
    {
     "name": "stdout",
     "output_type": "stream",
     "text": [
      "(918, 2)\n"
     ]
    },
    {
     "data": {
      "text/html": [
       "<div>\n",
       "<style scoped>\n",
       "    .dataframe tbody tr th:only-of-type {\n",
       "        vertical-align: middle;\n",
       "    }\n",
       "\n",
       "    .dataframe tbody tr th {\n",
       "        vertical-align: top;\n",
       "    }\n",
       "\n",
       "    .dataframe thead th {\n",
       "        text-align: right;\n",
       "    }\n",
       "</style>\n",
       "<table border=\"1\" class=\"dataframe\">\n",
       "  <thead>\n",
       "    <tr style=\"text-align: right;\">\n",
       "      <th></th>\n",
       "      <th>question</th>\n",
       "      <th>answer</th>\n",
       "    </tr>\n",
       "    <tr>\n",
       "      <th>id</th>\n",
       "      <th></th>\n",
       "      <th></th>\n",
       "    </tr>\n",
       "  </thead>\n",
       "  <tbody>\n",
       "    <tr>\n",
       "      <th>0</th>\n",
       "      <td>Was Abraham Lincoln the sixteenth President of...</td>\n",
       "      <td>yes</td>\n",
       "    </tr>\n",
       "    <tr>\n",
       "      <th>2</th>\n",
       "      <td>Did Lincoln sign the National Banking Act of 1...</td>\n",
       "      <td>yes</td>\n",
       "    </tr>\n",
       "    <tr>\n",
       "      <th>4</th>\n",
       "      <td>Did his mother die of pneumonia?</td>\n",
       "      <td>no</td>\n",
       "    </tr>\n",
       "    <tr>\n",
       "      <th>6</th>\n",
       "      <td>How many long was Lincoln's formal education?</td>\n",
       "      <td>18 months</td>\n",
       "    </tr>\n",
       "    <tr>\n",
       "      <th>8</th>\n",
       "      <td>When did Lincoln begin his political career?</td>\n",
       "      <td>1832</td>\n",
       "    </tr>\n",
       "  </tbody>\n",
       "</table>\n",
       "</div>"
      ],
      "text/plain": [
       "                                             question     answer\n",
       "id                                                              \n",
       "0   Was Abraham Lincoln the sixteenth President of...        yes\n",
       "2   Did Lincoln sign the National Banking Act of 1...        yes\n",
       "4                    Did his mother die of pneumonia?         no\n",
       "6       How many long was Lincoln's formal education?  18 months\n",
       "8        When did Lincoln begin his political career?       1832"
      ]
     },
     "execution_count": 3,
     "metadata": {},
     "output_type": "execute_result"
    }
   ],
   "source": [
    "test_df = pd.read_parquet(\"hf://datasets/rag-datasets/rag-mini-wikipedia/data/test.parquet/part.0.parquet\")\n",
    "print(test_df.shape)\n",
    "test_df.head()"
   ]
  },
  {
   "cell_type": "code",
   "execution_count": 5,
   "id": "6303b2dd",
   "metadata": {},
   "outputs": [
    {
     "name": "stdout",
     "output_type": "stream",
     "text": [
      "=== PASSAGES DATASET EDA ===\n",
      "\n",
      "1. DATASET OVERVIEW\n",
      "Dataset shape: (3200, 1)\n",
      "Number of passages: 3200\n",
      "Columns: ['passage']\n",
      "Data types:\n",
      "passage    string[python]\n",
      "dtype: object\n",
      "Memory usage: 1.37 MB\n",
      "\n",
      "2. MISSING VALUES ANALYSIS\n",
      "Missing values per column:\n",
      "passage    0\n",
      "dtype: int64\n",
      "Percentage of missing values: 0.00%\n",
      "\n",
      "3. SAMPLE PASSAGES\n",
      "First 3 passages:\n",
      "\n",
      "Passage 1:\n",
      "Length: 250 characters\n",
      "Content: Uruguay (official full name in  ; pron.  , Eastern Republic of  Uruguay) is a country located in the southeastern part of South America.  It is home to 3.3 million people, of which 1.7 million live in...\n",
      "\n",
      "Passage 2:\n",
      "Length: 349 characters\n",
      "Content: It is bordered by Brazil to the north, by Argentina across the bank of both the Uruguay River to the west and the estuary of RÃ­o de la Plata to the southwest, and the South Atlantic Ocean to the sout...\n",
      "\n",
      "Passage 3:\n",
      "Length: 312 characters\n",
      "Content: Montevideo was founded by the Spanish in the early 18th century as a military stronghold. Uruguay won its independence in 1828 following a three-way struggle between Spain, Argentina and Brazil. It is...\n",
      "\n",
      "4. LENGTH ANALYSIS\n",
      "Character length statistics:\n",
      "  Mean: 389.85\n",
      "  Median: 299.00\n",
      "  Min: 1\n",
      "  Max: 2515\n",
      "  Std: 348.37\n",
      "\n",
      "Word length statistics:\n",
      "  Mean: 62.10\n",
      "  Median: 48.00\n",
      "  Min: 1\n",
      "  Max: 425\n",
      "  Std: 55.42\n",
      "\n",
      "Sentence length statistics:\n",
      "  Mean: 4.63\n",
      "  Median: 4.00\n",
      "  Min: 1\n",
      "  Max: 32\n",
      "  Std: 3.43\n",
      "\n"
     ]
    }
   ],
   "source": [
    "# Code for EDA\n",
    "import matplotlib.pyplot as plt\n",
    "import seaborn as sns\n",
    "import numpy as np\n",
    "from collections import Counter\n",
    "import re\n",
    "\n",
    "# Set up plotting style\n",
    "plt.style.use('default')\n",
    "sns.set_palette(\"husl\")\n",
    "\n",
    "print(\"=== PASSAGES DATASET EDA ===\\n\")\n",
    "\n",
    "# 1. Basic Information about the dataset\n",
    "print(\"1. DATASET OVERVIEW\")\n",
    "print(f\"Dataset shape: {passages.shape}\")\n",
    "print(f\"Number of passages: {len(passages)}\")\n",
    "print(f\"Columns: {list(passages.columns)}\")\n",
    "print(f\"Data types:\\n{passages.dtypes}\")\n",
    "print(f\"Memory usage: {passages.memory_usage(deep=True).sum() / 1024**2:.2f} MB\")\n",
    "print()\n",
    "\n",
    "# 2. Check for missing values\n",
    "print(\"2. MISSING VALUES ANALYSIS\")\n",
    "print(f\"Missing values per column:\\n{passages.isnull().sum()}\")\n",
    "print(f\"Percentage of missing values: {(passages.isnull().sum().sum() / (passages.shape[0] * passages.shape[1])) * 100:.2f}%\")\n",
    "print()\n",
    "\n",
    "# 3. Display sample passages\n",
    "print(\"3. SAMPLE PASSAGES\")\n",
    "print(\"First 3 passages:\")\n",
    "for i in range(min(3, len(passages))):\n",
    "    print(f\"\\nPassage {i+1}:\")\n",
    "    print(f\"Length: {len(str(passages.iloc[i, 0]))} characters\")\n",
    "    print(f\"Content: {str(passages.iloc[i, 0])[:200]}...\")\n",
    "print()\n",
    "\n",
    "# 4. Length Analysis\n",
    "print(\"4. LENGTH ANALYSIS\")\n",
    "# Calculate various length metrics for all passages\n",
    "passage_texts = passages.iloc[:, 0].astype(str)\n",
    "char_lengths = passage_texts.str.len()\n",
    "word_lengths = passage_texts.str.split().str.len()\n",
    "sentence_lengths = passage_texts.str.split('[.!?]+').str.len()\n",
    "\n",
    "print(f\"Character length statistics:\")\n",
    "print(f\"  Mean: {char_lengths.mean():.2f}\")\n",
    "print(f\"  Median: {char_lengths.median():.2f}\")\n",
    "print(f\"  Min: {char_lengths.min()}\")\n",
    "print(f\"  Max: {char_lengths.max()}\")\n",
    "print(f\"  Std: {char_lengths.std():.2f}\")\n",
    "print()\n",
    "\n",
    "print(f\"Word length statistics:\")\n",
    "print(f\"  Mean: {word_lengths.mean():.2f}\")\n",
    "print(f\"  Median: {word_lengths.median():.2f}\")\n",
    "print(f\"  Min: {word_lengths.min()}\")\n",
    "print(f\"  Max: {word_lengths.max()}\")\n",
    "print(f\"  Std: {word_lengths.std():.2f}\")\n",
    "print()\n",
    "\n",
    "print(f\"Sentence length statistics:\")\n",
    "print(f\"  Mean: {sentence_lengths.mean():.2f}\")\n",
    "print(f\"  Median: {sentence_lengths.median():.2f}\")\n",
    "print(f\"  Min: {sentence_lengths.min()}\")\n",
    "print(f\"  Max: {sentence_lengths.max()}\")\n",
    "print(f\"  Std: {sentence_lengths.std():.2f}\")\n",
    "print()\n"
   ]
  }
 ],
 "metadata": {
  "kernelspec": {
   "display_name": "base",
   "language": "python",
   "name": "python3"
  },
  "language_info": {
   "codemirror_mode": {
    "name": "ipython",
    "version": 3
   },
   "file_extension": ".py",
   "mimetype": "text/x-python",
   "name": "python",
   "nbconvert_exporter": "python",
   "pygments_lexer": "ipython3",
   "version": "3.12.7"
  }
 },
 "nbformat": 4,
 "nbformat_minor": 5
}
